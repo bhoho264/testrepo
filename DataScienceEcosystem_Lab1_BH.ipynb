{
 "cells": [
  {
   "cell_type": "markdown",
   "id": "815dd5ad-ad5b-420d-b827-5d4c536531fd",
   "metadata": {},
   "source": [
    "# Data Science Tools and Ecosystem"
   ]
  },
  {
   "cell_type": "markdown",
   "id": "887b7d0f-278b-4925-82b7-a9ce11abb0a9",
   "metadata": {},
   "source": [
    "In this notebook, Data Science Tools and Ecosystem are summarized."
   ]
  },
  {
   "cell_type": "markdown",
   "id": "1ed9de89-f150-4873-aa59-3864834e0f86",
   "metadata": {},
   "source": [
    "Three commonly used languages for Data Science are:\n",
    "\n",
    "1. Python\n",
    "2. R\n",
    "3. SQL"
   ]
  },
  {
   "cell_type": "markdown",
   "id": "d074b65f-24ed-499b-892f-5f9310d2ca02",
   "metadata": {},
   "source": [
    "In Python, three of the more popular libraries used by data scientists include:\n",
    "\n",
    "1. Pandas\n",
    "2. NumPy\n",
    "3. Scikit-Learn\n",
    "\n",
    "When using R, data scientists can also leverage:\n",
    "\n",
    "1. ggplot2\n",
    "2. Caret\n",
    "3. TensorFlow"
   ]
  },
  {
   "cell_type": "markdown",
   "id": "885eff42-f649-4c19-8ffc-a2e7f35724bd",
   "metadata": {},
   "source": [
    "|Data Science Tools (for Dev Environment)|\n",
    "|------------------|\n",
    "|R-Studio|\n",
    "|VS Code|\n",
    "|Jupyter Notebooks/Jupyter Lab|\n"
   ]
  },
  {
   "cell_type": "markdown",
   "id": "f172b10b-0fa1-416d-928e-248f63e19080",
   "metadata": {},
   "source": [
    "### Below are some examples of arithmetic expressions in Python:"
   ]
  },
  {
   "cell_type": "markdown",
   "id": "3b22ec94-4df5-46de-b3eb-aa2615dcd703",
   "metadata": {},
   "source": [
    "Multiply and Add Integers:"
   ]
  },
  {
   "cell_type": "code",
   "execution_count": 1,
   "id": "a606d0f6-4263-4057-8d33-e2b24ebdc32d",
   "metadata": {},
   "outputs": [
    {
     "data": {
      "text/plain": [
       "17"
      ]
     },
     "execution_count": 1,
     "metadata": {},
     "output_type": "execute_result"
    }
   ],
   "source": [
    "(3*4)+5"
   ]
  },
  {
   "cell_type": "markdown",
   "id": "ee8ab9dd-ff58-4489-b779-76cb08162261",
   "metadata": {},
   "source": [
    "Convert Minutes to Hours by division:"
   ]
  },
  {
   "cell_type": "code",
   "execution_count": 4,
   "id": "1c4d3e74-803f-4bc4-8b6e-22ee787c9094",
   "metadata": {},
   "outputs": [
    {
     "data": {
      "text/plain": [
       "3.33"
      ]
     },
     "execution_count": 4,
     "metadata": {},
     "output_type": "execute_result"
    }
   ],
   "source": [
    "round(200/60, 2)"
   ]
  },
  {
   "cell_type": "markdown",
   "id": "3b38455c-bf60-4f7d-a813-89d6dbba6541",
   "metadata": {},
   "source": [
    "##### Objectives covered in this notebook:\n",
    "\n",
    "- Commonly used languages for data science.\n",
    "- Popular Python and R libraries for data science.\n",
    "- Helpful data science tools for development environment.\n",
    "- Examples of arithmetic expressions (and nesting a function) in Python."
   ]
  },
  {
   "cell_type": "markdown",
   "id": "f83edde2-867f-4071-8058-21dca0cb40f5",
   "metadata": {},
   "source": [
    "## Author:  Ben H."
   ]
  }
 ],
 "metadata": {
  "kernelspec": {
   "display_name": "Python 3 (ipykernel)",
   "language": "python",
   "name": "python3"
  },
  "language_info": {
   "codemirror_mode": {
    "name": "ipython",
    "version": 3
   },
   "file_extension": ".py",
   "mimetype": "text/x-python",
   "name": "python",
   "nbconvert_exporter": "python",
   "pygments_lexer": "ipython3",
   "version": "3.12.8"
  }
 },
 "nbformat": 4,
 "nbformat_minor": 5
}
